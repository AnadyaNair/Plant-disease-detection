{
  "nbformat": 4,
  "nbformat_minor": 0,
  "metadata": {
    "accelerator": "GPU",
    "colab": {
      "name": "plant-disease-detection-MobileNetV2",
      "provenance": []
    },
    "kernelspec": {
      "display_name": "Python 3",
      "name": "python3"
    },
    "language_info": {
      "name": "python"
    }
  },
  "cells": [
    {
      "cell_type": "markdown",
      "metadata": {
        "id": "vwCVOo6qYPBr"
      },
      "source": [
        "## Importing packages, and GPU check\n",
        "\n",
        "Define all the imports needed for the project here."
      ]
    },
    {
      "cell_type": "code",
      "metadata": {
        "colab": {
          "base_uri": "https://localhost:8080/"
        },
        "id": "cuqXRz2rYwCg",
        "outputId": "745b90af-98b6-407c-9395-2b1b11770b92"
      },
      "source": [
        "!pip install opendatasets"
      ],
      "execution_count": 1,
      "outputs": [
        {
          "output_type": "stream",
          "name": "stdout",
          "text": [
            "Requirement already satisfied: opendatasets in /usr/local/lib/python3.7/dist-packages (0.1.20)\n",
            "Requirement already satisfied: tqdm in /usr/local/lib/python3.7/dist-packages (from opendatasets) (4.62.2)\n",
            "Requirement already satisfied: kaggle in /usr/local/lib/python3.7/dist-packages (from opendatasets) (1.5.12)\n",
            "Requirement already satisfied: click in /usr/local/lib/python3.7/dist-packages (from opendatasets) (7.1.2)\n",
            "Requirement already satisfied: requests in /usr/local/lib/python3.7/dist-packages (from kaggle->opendatasets) (2.23.0)\n",
            "Requirement already satisfied: urllib3 in /usr/local/lib/python3.7/dist-packages (from kaggle->opendatasets) (1.24.3)\n",
            "Requirement already satisfied: python-slugify in /usr/local/lib/python3.7/dist-packages (from kaggle->opendatasets) (5.0.2)\n",
            "Requirement already satisfied: six>=1.10 in /usr/local/lib/python3.7/dist-packages (from kaggle->opendatasets) (1.15.0)\n",
            "Requirement already satisfied: certifi in /usr/local/lib/python3.7/dist-packages (from kaggle->opendatasets) (2021.5.30)\n",
            "Requirement already satisfied: python-dateutil in /usr/local/lib/python3.7/dist-packages (from kaggle->opendatasets) (2.8.2)\n",
            "Requirement already satisfied: text-unidecode>=1.3 in /usr/local/lib/python3.7/dist-packages (from python-slugify->kaggle->opendatasets) (1.3)\n",
            "Requirement already satisfied: chardet<4,>=3.0.2 in /usr/local/lib/python3.7/dist-packages (from requests->kaggle->opendatasets) (3.0.4)\n",
            "Requirement already satisfied: idna<3,>=2.5 in /usr/local/lib/python3.7/dist-packages (from requests->kaggle->opendatasets) (2.10)\n"
          ]
        }
      ]
    },
    {
      "cell_type": "code",
      "metadata": {
        "id": "dW0--scOUJOM"
      },
      "source": [
        "# Import OS module\n",
        "import os\n",
        "\n",
        "# Imports\n",
        "import numpy as np\n",
        "import pandas as pd\n",
        "\n",
        "# Visualization\n",
        "import matplotlib.pyplot as plt\n",
        "\n",
        "# Tensorflow\n",
        "import tensorflow as tf\n",
        "from tensorflow import keras\n",
        "from tensorflow.keras import callbacks, layers, Model\n",
        "from tensorflow.keras.preprocessing.image import ImageDataGenerator\n",
        "\n",
        "# Misc imports\n",
        "import opendatasets as od\n",
        "\n",
        "# Notebook magic\n",
        "%matplotlib inline"
      ],
      "execution_count": 2,
      "outputs": []
    },
    {
      "cell_type": "code",
      "metadata": {
        "colab": {
          "base_uri": "https://localhost:8080/"
        },
        "id": "i6W0AhncYU9g",
        "outputId": "3bb5174d-c1fb-4c26-9990-1c01f6b40e58"
      },
      "source": [
        "# Check if GPU available\n",
        "!nvidia-smi"
      ],
      "execution_count": 3,
      "outputs": [
        {
          "output_type": "stream",
          "name": "stdout",
          "text": [
            "Sun Sep 26 07:36:40 2021       \n",
            "+-----------------------------------------------------------------------------+\n",
            "| NVIDIA-SMI 470.63.01    Driver Version: 460.32.03    CUDA Version: 11.2     |\n",
            "|-------------------------------+----------------------+----------------------+\n",
            "| GPU  Name        Persistence-M| Bus-Id        Disp.A | Volatile Uncorr. ECC |\n",
            "| Fan  Temp  Perf  Pwr:Usage/Cap|         Memory-Usage | GPU-Util  Compute M. |\n",
            "|                               |                      |               MIG M. |\n",
            "|===============================+======================+======================|\n",
            "|   0  Tesla K80           Off  | 00000000:00:04.0 Off |                    0 |\n",
            "| N/A   42C    P8    28W / 149W |      0MiB / 11441MiB |      0%      Default |\n",
            "|                               |                      |                  N/A |\n",
            "+-------------------------------+----------------------+----------------------+\n",
            "                                                                               \n",
            "+-----------------------------------------------------------------------------+\n",
            "| Processes:                                                                  |\n",
            "|  GPU   GI   CI        PID   Type   Process name                  GPU Memory |\n",
            "|        ID   ID                                                   Usage      |\n",
            "|=============================================================================|\n",
            "|  No running processes found                                                 |\n",
            "+-----------------------------------------------------------------------------+\n"
          ]
        }
      ]
    },
    {
      "cell_type": "code",
      "metadata": {
        "id": "gdOYAEVxYbEF"
      },
      "source": [
        "# Configure variables for Transfer learning\n",
        "image_size = 224\n",
        "\n",
        "target_size = (image_size, image_size)\n",
        "input_shape = (image_size, image_size, 3)\n",
        "grid_shape = (1, image_size, image_size, 3)\n",
        "\n",
        "batch_size = 32"
      ],
      "execution_count": 4,
      "outputs": []
    },
    {
      "cell_type": "markdown",
      "metadata": {
        "id": "u-qkwKvTYnTe"
      },
      "source": [
        "## Configure paths and load images\n",
        "\n",
        "We are using`ImageDataGenerator` in keras to load images in order to easily add Image augmentations, Get the categories and work with the API well."
      ]
    },
    {
      "cell_type": "code",
      "metadata": {
        "colab": {
          "base_uri": "https://localhost:8080/"
        },
        "id": "-J_VX15qY5um",
        "outputId": "32055162-1cf4-4e38-e9ad-981c557d694c"
      },
      "source": [
        "# Download dataset\n",
        "od.download(\"https://www.kaggle.com/vipoooool/new-plant-diseases-dataset\")"
      ],
      "execution_count": 5,
      "outputs": [
        {
          "output_type": "stream",
          "name": "stdout",
          "text": [
            "Skipping, found downloaded files in \"./new-plant-diseases-dataset\" (use force=True to force download)\n"
          ]
        }
      ]
    },
    {
      "cell_type": "code",
      "metadata": {
        "id": "Naf-M1-QYvR1"
      },
      "source": [
        "dataset_root = \"./new-plant-diseases-dataset/new plant diseases dataset(augmented)/New Plant Diseases Dataset(Augmented)\"\n",
        "\n",
        "# Join paths\n",
        "train_dir = os.path.join(dataset_root, \"train\")\n",
        "test_dir = os.path.join(dataset_root, \"valid\")"
      ],
      "execution_count": 6,
      "outputs": []
    },
    {
      "cell_type": "code",
      "metadata": {
        "colab": {
          "base_uri": "https://localhost:8080/"
        },
        "id": "ZY7mS7G5YjSh",
        "outputId": "1712c9db-e361-48e4-9b11-c4e4e34906d8"
      },
      "source": [
        "# Define augmentations for train dataset and read the images\n",
        "train_aug = ImageDataGenerator(\n",
        "    # Rescale\n",
        "    rescale=1/255.0,\n",
        "    # Filling for W/H shift\n",
        "    fill_mode=\"nearest\",\n",
        "    # Width and Height shift\n",
        "    width_shift_range=0.2,\n",
        "    height_shift_range=0.2,\n",
        "    # Random zooms\n",
        "    zoom_range=0.2,\n",
        "    # Random Shearing aug\n",
        "    shear_range=0.2,\n",
        ")\n",
        "\n",
        "# Read from directory\n",
        "train_data = train_aug.flow_from_directory(\n",
        "    train_dir,\n",
        "    target_size=(image_size, image_size),\n",
        "    batch_size=batch_size,\n",
        "    class_mode=\"categorical\"\n",
        ")"
      ],
      "execution_count": 7,
      "outputs": [
        {
          "output_type": "stream",
          "name": "stdout",
          "text": [
            "Found 70295 images belonging to 38 classes.\n"
          ]
        }
      ]
    },
    {
      "cell_type": "code",
      "metadata": {
        "colab": {
          "base_uri": "https://localhost:8080/"
        },
        "id": "RjPUzVliYshf",
        "outputId": "8f599923-49d2-4d6c-bb52-6400fa0e9dc7"
      },
      "source": [
        "# Augmentations for test data\n",
        "test_aug = ImageDataGenerator(\n",
        "    # Rescale\n",
        "    rescale=1/255.0\n",
        ")\n",
        "\n",
        "# Read the data\n",
        "# Read from directory\n",
        "test_data = test_aug.flow_from_directory(\n",
        "    test_dir,\n",
        "    target_size=(image_size, image_size),\n",
        "    batch_size=batch_size,\n",
        "    class_mode=\"categorical\"\n",
        ")"
      ],
      "execution_count": 8,
      "outputs": [
        {
          "output_type": "stream",
          "name": "stdout",
          "text": [
            "Found 17572 images belonging to 38 classes.\n"
          ]
        }
      ]
    },
    {
      "cell_type": "code",
      "metadata": {
        "id": "ZE_9TRAIZ2Hk"
      },
      "source": [
        "# Get the list of categories in training data\n",
        "cats = list(train_data.class_indices.keys())"
      ],
      "execution_count": 9,
      "outputs": []
    },
    {
      "cell_type": "markdown",
      "metadata": {
        "id": "sEhKkb5PZ6SZ"
      },
      "source": [
        "## Model building using Transfer learning, Training and Testing\n",
        "\n",
        "`MobileNetV2` model is used for the disease detection.\n",
        "\n",
        "As per documentation, the Global 2D average pooling is added along with Dropout. Later our final layer (`Dense`) with `softmax` activation is added for prediction.\n",
        "\n",
        "Training is done with the dataset instance, and limiting to 150 steps per epoch to save time."
      ]
    },
    {
      "cell_type": "code",
      "metadata": {
        "id": "e9gTgePorguK"
      },
      "source": [
        "# Load the base model\n",
        "mbnet_v2 = keras.applications.MobileNetV2(\n",
        "    weights=\"imagenet\",\n",
        "    include_top=False,\n",
        "    input_shape=input_shape\n",
        ")\n",
        "\n",
        "# Stop from being trainable\n",
        "mbnet_v2.trainable = False"
      ],
      "execution_count": 10,
      "outputs": []
    },
    {
      "cell_type": "code",
      "metadata": {
        "colab": {
          "base_uri": "https://localhost:8080/"
        },
        "id": "7LFpqTGmZ9m2",
        "outputId": "111bd27d-051d-4393-b3d4-d9fb0bd15bff"
      },
      "source": [
        "# Define the layers\n",
        "inputs = keras.Input(shape=input_shape)\n",
        "\n",
        "# Get the layer\n",
        "x = mbnet_v2(inputs, training=False)\n",
        "\n",
        "# Stack layers further\n",
        "x = tf.keras.layers.GlobalAveragePooling2D()(x)\n",
        "x = tf.keras.layers.Dropout(0.2)(x)\n",
        "x = tf.keras.layers.Dense(len(cats), activation=\"softmax\")(x)\n",
        "\n",
        "# Combine the model\n",
        "model = Model(inputs=inputs, outputs=x)\n",
        "\n",
        "# Summary\n",
        "model.summary()"
      ],
      "execution_count": 11,
      "outputs": [
        {
          "output_type": "stream",
          "name": "stdout",
          "text": [
            "Model: \"model\"\n",
            "_________________________________________________________________\n",
            "Layer (type)                 Output Shape              Param #   \n",
            "=================================================================\n",
            "input_2 (InputLayer)         [(None, 224, 224, 3)]     0         \n",
            "_________________________________________________________________\n",
            "mobilenetv2_1.00_224 (Functi (None, 7, 7, 1280)        2257984   \n",
            "_________________________________________________________________\n",
            "global_average_pooling2d (Gl (None, 1280)              0         \n",
            "_________________________________________________________________\n",
            "dropout (Dropout)            (None, 1280)              0         \n",
            "_________________________________________________________________\n",
            "dense (Dense)                (None, 38)                48678     \n",
            "=================================================================\n",
            "Total params: 2,306,662\n",
            "Trainable params: 48,678\n",
            "Non-trainable params: 2,257,984\n",
            "_________________________________________________________________\n"
          ]
        }
      ]
    },
    {
      "cell_type": "code",
      "metadata": {
        "id": "i104Qwu0aB-h"
      },
      "source": [
        "# Compile\n",
        "model.compile(optimizer=\"adam\", loss=\"categorical_crossentropy\", metrics=[\"accuracy\"])\n",
        "\n",
        "# Define callbacks to use\n",
        "early_stopping_cb = callbacks.EarlyStopping(monitor=\"loss\", patience=3)"
      ],
      "execution_count": 12,
      "outputs": []
    },
    {
      "cell_type": "code",
      "metadata": {
        "colab": {
          "base_uri": "https://localhost:8080/"
        },
        "id": "-B_BXpJYaY52",
        "outputId": "7c671f8a-1f09-4867-bdc9-7f17621a0fcb"
      },
      "source": [
        "# Num epochs\n",
        "epochs = 30\n",
        "\n",
        "# Train model\n",
        "history = model.fit(\n",
        "    train_data,\n",
        "    epochs=epochs,\n",
        "    steps_per_epoch=150,\n",
        "    callbacks=[early_stopping_cb]\n",
        ")"
      ],
      "execution_count": 13,
      "outputs": [
        {
          "output_type": "stream",
          "name": "stdout",
          "text": [
            "Epoch 1/30\n",
            "150/150 [==============================] - 106s 485ms/step - loss: 1.9923 - accuracy: 0.4801\n",
            "Epoch 2/30\n",
            "150/150 [==============================] - 72s 478ms/step - loss: 0.8871 - accuracy: 0.7506\n",
            "Epoch 3/30\n",
            "150/150 [==============================] - 70s 466ms/step - loss: 0.6600 - accuracy: 0.8119\n",
            "Epoch 4/30\n",
            "150/150 [==============================] - 70s 464ms/step - loss: 0.5595 - accuracy: 0.8348\n",
            "Epoch 5/30\n",
            "150/150 [==============================] - 70s 463ms/step - loss: 0.5077 - accuracy: 0.8473\n",
            "Epoch 6/30\n",
            "150/150 [==============================] - 68s 456ms/step - loss: 0.4596 - accuracy: 0.8623\n",
            "Epoch 7/30\n",
            "150/150 [==============================] - 68s 453ms/step - loss: 0.4503 - accuracy: 0.8600\n",
            "Epoch 8/30\n",
            "150/150 [==============================] - 67s 447ms/step - loss: 0.4155 - accuracy: 0.8719\n",
            "Epoch 9/30\n",
            "150/150 [==============================] - 67s 444ms/step - loss: 0.3949 - accuracy: 0.8815\n",
            "Epoch 10/30\n",
            "150/150 [==============================] - 66s 443ms/step - loss: 0.3763 - accuracy: 0.8808\n",
            "Epoch 11/30\n",
            "150/150 [==============================] - 66s 442ms/step - loss: 0.3889 - accuracy: 0.8760\n",
            "Epoch 12/30\n",
            "150/150 [==============================] - 66s 441ms/step - loss: 0.3744 - accuracy: 0.8821\n",
            "Epoch 13/30\n",
            "150/150 [==============================] - 66s 441ms/step - loss: 0.3478 - accuracy: 0.8898\n",
            "Epoch 14/30\n",
            "150/150 [==============================] - 66s 441ms/step - loss: 0.3396 - accuracy: 0.8915\n",
            "Epoch 15/30\n",
            "150/150 [==============================] - 66s 442ms/step - loss: 0.3227 - accuracy: 0.8967\n",
            "Epoch 16/30\n",
            "150/150 [==============================] - 66s 438ms/step - loss: 0.3348 - accuracy: 0.8954\n",
            "Epoch 17/30\n",
            "150/150 [==============================] - 65s 435ms/step - loss: 0.3413 - accuracy: 0.8913\n",
            "Epoch 18/30\n",
            "150/150 [==============================] - 67s 446ms/step - loss: 0.3070 - accuracy: 0.8985\n",
            "Epoch 19/30\n",
            "150/150 [==============================] - 66s 438ms/step - loss: 0.3144 - accuracy: 0.8954\n",
            "Epoch 20/30\n",
            "150/150 [==============================] - 66s 438ms/step - loss: 0.3166 - accuracy: 0.8977\n",
            "Epoch 21/30\n",
            "150/150 [==============================] - 66s 439ms/step - loss: 0.2939 - accuracy: 0.9062\n",
            "Epoch 22/30\n",
            "150/150 [==============================] - 66s 438ms/step - loss: 0.2881 - accuracy: 0.9069\n",
            "Epoch 23/30\n",
            "150/150 [==============================] - 66s 438ms/step - loss: 0.2885 - accuracy: 0.9048\n",
            "Epoch 24/30\n",
            "150/150 [==============================] - 66s 440ms/step - loss: 0.2892 - accuracy: 0.8998\n",
            "Epoch 25/30\n",
            "150/150 [==============================] - 66s 438ms/step - loss: 0.2740 - accuracy: 0.9104\n",
            "Epoch 26/30\n",
            "150/150 [==============================] - 66s 437ms/step - loss: 0.2826 - accuracy: 0.9104\n",
            "Epoch 27/30\n",
            "150/150 [==============================] - 66s 438ms/step - loss: 0.2888 - accuracy: 0.9019\n",
            "Epoch 28/30\n",
            "150/150 [==============================] - 65s 435ms/step - loss: 0.2823 - accuracy: 0.9100\n"
          ]
        }
      ]
    },
    {
      "cell_type": "code",
      "metadata": {
        "colab": {
          "base_uri": "https://localhost:8080/"
        },
        "id": "I2jdZQvna6dC",
        "outputId": "67acef45-8c6e-4911-a7a8-fbdecf8c0172"
      },
      "source": [
        "model.evaluate(test_data)"
      ],
      "execution_count": 14,
      "outputs": [
        {
          "output_type": "stream",
          "name": "stdout",
          "text": [
            "550/550 [==============================] - 58s 104ms/step - loss: 0.2368 - accuracy: 0.9244\n"
          ]
        },
        {
          "output_type": "execute_result",
          "data": {
            "text/plain": [
              "[0.2368224710226059, 0.9243683218955994]"
            ]
          },
          "metadata": {},
          "execution_count": 14
        }
      ]
    },
    {
      "cell_type": "markdown",
      "metadata": {
        "id": "nwZC_wCokh-F"
      },
      "source": [
        "## Plot the training and testing info\n",
        "\n",
        "Using matplotlib, and the history reference from keras training step, We're predicting the info about the accuracy and loss during both training and testing."
      ]
    },
    {
      "cell_type": "code",
      "metadata": {
        "colab": {
          "base_uri": "https://localhost:8080/",
          "height": 279
        },
        "id": "RgiZ_JzikeNq",
        "outputId": "c7d48bd9-70b7-4d7c-8d6d-4cdff6adb3ac"
      },
      "source": [
        "# Plotting\n",
        "hist = history.history  # Taking a reference\n",
        "\n",
        "plt.plot(hist[\"accuracy\"], label=\"accuracy\")  # Plotting the accuracy\n",
        "plt.plot(hist[\"loss\"], label=\"loss\")  # Plot the loss\n",
        "\n",
        "# Do this if you have validation sets used too\n",
        "if \"val_accuracy\" in hist and \"val_loss\" in hist:\n",
        "    plt.plot(hist[\"val_accuracy\"], label=\"val_accuracy\")  # Plotting the val accuracy\n",
        "    plt.plot(hist[\"val_loss\"], label=\"val_loss\")  # Plot the val loss\n",
        "\n",
        "# Add the labels and legend\n",
        "plt.ylabel(\"Accuracy / Loss\")\n",
        "plt.xlabel(\"Epochs #\")\n",
        "plt.legend()\n",
        "\n",
        "# Finally show the plot\n",
        "plt.show()"
      ],
      "execution_count": 15,
      "outputs": [
        {
          "output_type": "display_data",
          "data": {
            "image/png": "[encoded data removed]",
            "text/plain": [
              "<Figure size 432x288 with 1 Axes>"
            ]
          },
          "metadata": {
            "needs_background": "light"
          }
        }
      ]
    },
    {
      "cell_type": "code",
      "metadata": {
        "colab": {
          "base_uri": "https://localhost:8080/"
        },
        "id": "7i1SUMiJkj1G",
        "outputId": "d242c6e2-42b5-434d-8f0a-8ed7236d34f0"
      },
      "source": [
        "model.save(\"plant_disease_detection.h5\")"
      ],
      "execution_count": 16,
      "outputs": [
        {
          "output_type": "stream",
          "name": "stderr",
          "text": [
            "/usr/local/lib/python3.7/dist-packages/keras/utils/generic_utils.py:497: CustomMaskWarning: Custom mask layers require a config and must override get_config. When loading, the custom mask layer must be passed to the custom_objects argument.\n",
            "  category=CustomMaskWarning)\n"
          ]
        }
      ]
    },
    {
      "cell_type": "markdown",
      "metadata": {
        "id": "pqIZ6u7-Ip9g"
      },
      "source": [
        "## Model and Categories download\n",
        "\n",
        "Add IPython File linking for downloading the model and categories"
      ]
    },
    {
      "cell_type": "code",
      "metadata": {
        "colab": {
          "base_uri": "https://localhost:8080/",
          "height": 34
        },
        "id": "oWBC2JJ1Iq2M",
        "outputId": "40cf97d5-5317-4f64-cbdf-1965609495d3"
      },
      "source": [
        "import json\n",
        "\n",
        "from IPython.display import FileLink\n",
        "\n",
        "# Link the files\n",
        "FileLink(\"./plant_disease_detection.h5\")"
      ],
      "execution_count": 17,
      "outputs": [
        {
          "output_type": "execute_result",
          "data": {
            "text/html": [
              "<a href='./plant_disease_detection.h5' target='_blank'>./plant_disease_detection.h5</a><br>"
            ],
            "text/plain": [
              "/content/plant_disease_detection.h5"
            ]
          },
          "metadata": {},
          "execution_count": 17
        }
      ]
    },
    {
      "cell_type": "code",
      "metadata": {
        "colab": {
          "base_uri": "https://localhost:8080/",
          "height": 34
        },
        "id": "k2Ov1My3IuUq",
        "outputId": "3c229e32-3fb5-4528-d0bc-469f4da398fb"
      },
      "source": [
        "# Dump the categories\n",
        "with open(\"categories.json\", \"w\") as file:\n",
        "  json.dump(train_data.class_indices, file)\n",
        "\n",
        "# Link categories JSON\n",
        "FileLink(\"categories.json\")"
      ],
      "execution_count": 18,
      "outputs": [
        {
          "output_type": "execute_result",
          "data": {
            "text/html": [
              "<a href='categories.json' target='_blank'>categories.json</a><br>"
            ],
            "text/plain": [
              "/content/categories.json"
            ]
          },
          "metadata": {},
          "execution_count": 18
        }
      ]
    }
  ]
}